{
 "cells": [
  {
   "cell_type": "markdown",
   "id": "56685ad4",
   "metadata": {},
   "source": [
    "# 1. 인구 피라미드"
   ]
  },
  {
   "cell_type": "markdown",
   "id": "0983b9c9",
   "metadata": {},
   "source": [
    "## 남자 데이터 정의"
   ]
  },
  {
   "cell_type": "code",
   "execution_count": 1,
   "id": "9709e60d",
   "metadata": {},
   "outputs": [
    {
     "name": "stderr",
     "output_type": "stream",
     "text": [
      "C:\\Users\\pjh09\\AppData\\Local\\Programs\\Python\\Python310\\lib\\site-packages\\openpyxl\\styles\\stylesheet.py:226: UserWarning: Workbook contains no default style, apply openpyxl's default\n",
      "  warn(\"Workbook contains no default style, apply openpyxl's default\")\n"
     ]
    },
    {
     "data": {
      "text/html": [
       "<div>\n",
       "<style scoped>\n",
       "    .dataframe tbody tr th:only-of-type {\n",
       "        vertical-align: middle;\n",
       "    }\n",
       "\n",
       "    .dataframe tbody tr th {\n",
       "        vertical-align: top;\n",
       "    }\n",
       "\n",
       "    .dataframe thead th {\n",
       "        text-align: right;\n",
       "    }\n",
       "</style>\n",
       "<table border=\"1\" class=\"dataframe\">\n",
       "  <thead>\n",
       "    <tr style=\"text-align: right;\">\n",
       "      <th></th>\n",
       "      <th>0~4세</th>\n",
       "      <th>5~9세</th>\n",
       "      <th>10~14세</th>\n",
       "      <th>15~19세</th>\n",
       "      <th>20~24세</th>\n",
       "      <th>25~29세</th>\n",
       "      <th>30~34세</th>\n",
       "      <th>35~39세</th>\n",
       "      <th>40~44세</th>\n",
       "      <th>45~49세</th>\n",
       "      <th>...</th>\n",
       "      <th>55~59세</th>\n",
       "      <th>60~64세</th>\n",
       "      <th>65~69세</th>\n",
       "      <th>70~74세</th>\n",
       "      <th>75~79세</th>\n",
       "      <th>80~84세</th>\n",
       "      <th>85~89세</th>\n",
       "      <th>90~94세</th>\n",
       "      <th>95~99세</th>\n",
       "      <th>100세 이상</th>\n",
       "    </tr>\n",
       "    <tr>\n",
       "      <th>행정기관</th>\n",
       "      <th></th>\n",
       "      <th></th>\n",
       "      <th></th>\n",
       "      <th></th>\n",
       "      <th></th>\n",
       "      <th></th>\n",
       "      <th></th>\n",
       "      <th></th>\n",
       "      <th></th>\n",
       "      <th></th>\n",
       "      <th></th>\n",
       "      <th></th>\n",
       "      <th></th>\n",
       "      <th></th>\n",
       "      <th></th>\n",
       "      <th></th>\n",
       "      <th></th>\n",
       "      <th></th>\n",
       "      <th></th>\n",
       "      <th></th>\n",
       "      <th></th>\n",
       "    </tr>\n",
       "  </thead>\n",
       "  <tbody>\n",
       "    <tr>\n",
       "      <th>전국</th>\n",
       "      <td>742,149</td>\n",
       "      <td>1,095,857</td>\n",
       "      <td>1,216,677</td>\n",
       "      <td>1,206,722</td>\n",
       "      <td>1,558,805</td>\n",
       "      <td>1,841,462</td>\n",
       "      <td>1,717,398</td>\n",
       "      <td>1,715,217</td>\n",
       "      <td>2,057,132</td>\n",
       "      <td>2,056,284</td>\n",
       "      <td>...</td>\n",
       "      <td>2,064,052</td>\n",
       "      <td>2,071,422</td>\n",
       "      <td>1,515,304</td>\n",
       "      <td>1,028,613</td>\n",
       "      <td>709,127</td>\n",
       "      <td>492,699</td>\n",
       "      <td>206,185</td>\n",
       "      <td>52,327</td>\n",
       "      <td>8,731</td>\n",
       "      <td>1,278</td>\n",
       "    </tr>\n",
       "    <tr>\n",
       "      <th>서울특별시</th>\n",
       "      <td>119,427</td>\n",
       "      <td>165,654</td>\n",
       "      <td>187,419</td>\n",
       "      <td>197,042</td>\n",
       "      <td>278,499</td>\n",
       "      <td>394,656</td>\n",
       "      <td>375,354</td>\n",
       "      <td>337,116</td>\n",
       "      <td>364,900</td>\n",
       "      <td>356,625</td>\n",
       "      <td>...</td>\n",
       "      <td>341,221</td>\n",
       "      <td>341,519</td>\n",
       "      <td>267,044</td>\n",
       "      <td>187,277</td>\n",
       "      <td>135,677</td>\n",
       "      <td>90,577</td>\n",
       "      <td>34,874</td>\n",
       "      <td>9,134</td>\n",
       "      <td>1,656</td>\n",
       "      <td>286</td>\n",
       "    </tr>\n",
       "    <tr>\n",
       "      <th>부산광역시</th>\n",
       "      <td>42,338</td>\n",
       "      <td>65,072</td>\n",
       "      <td>69,073</td>\n",
       "      <td>67,433</td>\n",
       "      <td>95,482</td>\n",
       "      <td>111,856</td>\n",
       "      <td>102,678</td>\n",
       "      <td>101,969</td>\n",
       "      <td>127,947</td>\n",
       "      <td>122,709</td>\n",
       "      <td>...</td>\n",
       "      <td>128,297</td>\n",
       "      <td>142,802</td>\n",
       "      <td>117,183</td>\n",
       "      <td>82,949</td>\n",
       "      <td>55,438</td>\n",
       "      <td>35,605</td>\n",
       "      <td>12,937</td>\n",
       "      <td>3,010</td>\n",
       "      <td>414</td>\n",
       "      <td>71</td>\n",
       "    </tr>\n",
       "  </tbody>\n",
       "</table>\n",
       "<p>3 rows × 21 columns</p>\n",
       "</div>"
      ],
      "text/plain": [
       "            0~4세       5~9세     10~14세     15~19세     20~24세     25~29세  \\\n",
       "행정기관                                                                      \n",
       "전국       742,149  1,095,857  1,216,677  1,206,722  1,558,805  1,841,462   \n",
       "서울특별시    119,427    165,654    187,419    197,042    278,499    394,656   \n",
       "부산광역시     42,338     65,072     69,073     67,433     95,482    111,856   \n",
       "\n",
       "            30~34세     35~39세     40~44세     45~49세  ...     55~59세  \\\n",
       "행정기관                                                 ...              \n",
       "전국       1,717,398  1,715,217  2,057,132  2,056,284  ...  2,064,052   \n",
       "서울특별시      375,354    337,116    364,900    356,625  ...    341,221   \n",
       "부산광역시      102,678    101,969    127,947    122,709  ...    128,297   \n",
       "\n",
       "            60~64세     65~69세     70~74세   75~79세   80~84세   85~89세  90~94세  \\\n",
       "행정기관                                                                          \n",
       "전국       2,071,422  1,515,304  1,028,613  709,127  492,699  206,185  52,327   \n",
       "서울특별시      341,519    267,044    187,277  135,677   90,577   34,874   9,134   \n",
       "부산광역시      142,802    117,183     82,949   55,438   35,605   12,937   3,010   \n",
       "\n",
       "        95~99세 100세 이상  \n",
       "행정기관                    \n",
       "전국       8,731   1,278  \n",
       "서울특별시    1,656     286  \n",
       "부산광역시      414      71  \n",
       "\n",
       "[3 rows x 21 columns]"
      ]
     },
     "execution_count": 1,
     "metadata": {},
     "output_type": "execute_result"
    }
   ],
   "source": [
    "import pandas as pd\n",
    "file_name = '202209_202209_연령별인구현황_월간.xlsx'\n",
    "df_m = pd.read_excel(file_name, skiprows=3, index_col='행정기관', usecols='B,E:Y')\n",
    "df_m.head(3)"
   ]
  },
  {
   "cell_type": "code",
   "execution_count": 2,
   "id": "85a45661",
   "metadata": {},
   "outputs": [],
   "source": [
    "df_m.iloc[0] = df_m.iloc[0].str.replace(',', '').astype(int)  # 문자형을 정수형으로"
   ]
  },
  {
   "cell_type": "code",
   "execution_count": 3,
   "id": "1d519f60",
   "metadata": {},
   "outputs": [
    {
     "data": {
      "text/plain": [
       "0~4세        742149\n",
       "5~9세       1095857\n",
       "10~14세     1216677\n",
       "15~19세     1206722\n",
       "20~24세     1558805\n",
       "25~29세     1841462\n",
       "30~34세     1717398\n",
       "35~39세     1715217\n",
       "40~44세     2057132\n",
       "45~49세     2056284\n",
       "50~54세     2296557\n",
       "55~59세     2064052\n",
       "60~64세     2071422\n",
       "65~69세     1515304\n",
       "70~74세     1028613\n",
       "75~79세      709127\n",
       "80~84세      492699\n",
       "85~89세      206185\n",
       "90~94세       52327\n",
       "95~99세        8731\n",
       "100세 이상       1278\n",
       "Name: 전국  , dtype: object"
      ]
     },
     "execution_count": 3,
     "metadata": {},
     "output_type": "execute_result"
    }
   ],
   "source": [
    "df_m.iloc[0]"
   ]
  },
  {
   "cell_type": "markdown",
   "id": "e30c294d",
   "metadata": {},
   "source": [
    "## 여자 데이터 정의"
   ]
  },
  {
   "cell_type": "code",
   "execution_count": 4,
   "id": "f3756d48",
   "metadata": {},
   "outputs": [
    {
     "name": "stderr",
     "output_type": "stream",
     "text": [
      "C:\\Users\\pjh09\\AppData\\Local\\Programs\\Python\\Python310\\lib\\site-packages\\openpyxl\\styles\\stylesheet.py:226: UserWarning: Workbook contains no default style, apply openpyxl's default\n",
      "  warn(\"Workbook contains no default style, apply openpyxl's default\")\n"
     ]
    },
    {
     "data": {
      "text/html": [
       "<div>\n",
       "<style scoped>\n",
       "    .dataframe tbody tr th:only-of-type {\n",
       "        vertical-align: middle;\n",
       "    }\n",
       "\n",
       "    .dataframe tbody tr th {\n",
       "        vertical-align: top;\n",
       "    }\n",
       "\n",
       "    .dataframe thead th {\n",
       "        text-align: right;\n",
       "    }\n",
       "</style>\n",
       "<table border=\"1\" class=\"dataframe\">\n",
       "  <thead>\n",
       "    <tr style=\"text-align: right;\">\n",
       "      <th></th>\n",
       "      <th>0~4세.1</th>\n",
       "      <th>5~9세.1</th>\n",
       "      <th>10~14세.1</th>\n",
       "      <th>15~19세.1</th>\n",
       "      <th>20~24세.1</th>\n",
       "      <th>25~29세.1</th>\n",
       "      <th>30~34세.1</th>\n",
       "      <th>35~39세.1</th>\n",
       "      <th>40~44세.1</th>\n",
       "      <th>45~49세.1</th>\n",
       "      <th>...</th>\n",
       "      <th>55~59세.1</th>\n",
       "      <th>60~64세.1</th>\n",
       "      <th>65~69세.1</th>\n",
       "      <th>70~74세.1</th>\n",
       "      <th>75~79세.1</th>\n",
       "      <th>80~84세.1</th>\n",
       "      <th>85~89세.1</th>\n",
       "      <th>90~94세.1</th>\n",
       "      <th>95~99세.1</th>\n",
       "      <th>100세 이상.1</th>\n",
       "    </tr>\n",
       "    <tr>\n",
       "      <th>행정기관</th>\n",
       "      <th></th>\n",
       "      <th></th>\n",
       "      <th></th>\n",
       "      <th></th>\n",
       "      <th></th>\n",
       "      <th></th>\n",
       "      <th></th>\n",
       "      <th></th>\n",
       "      <th></th>\n",
       "      <th></th>\n",
       "      <th></th>\n",
       "      <th></th>\n",
       "      <th></th>\n",
       "      <th></th>\n",
       "      <th></th>\n",
       "      <th></th>\n",
       "      <th></th>\n",
       "      <th></th>\n",
       "      <th></th>\n",
       "      <th></th>\n",
       "      <th></th>\n",
       "    </tr>\n",
       "  </thead>\n",
       "  <tbody>\n",
       "    <tr>\n",
       "      <th>전국</th>\n",
       "      <td>705,549</td>\n",
       "      <td>1,043,616</td>\n",
       "      <td>1,148,950</td>\n",
       "      <td>1,127,904</td>\n",
       "      <td>1,434,955</td>\n",
       "      <td>1,652,012</td>\n",
       "      <td>1,566,694</td>\n",
       "      <td>1,630,074</td>\n",
       "      <td>1,987,386</td>\n",
       "      <td>1,999,047</td>\n",
       "      <td>...</td>\n",
       "      <td>2,021,055</td>\n",
       "      <td>2,110,691</td>\n",
       "      <td>1,612,560</td>\n",
       "      <td>1,164,727</td>\n",
       "      <td>910,953</td>\n",
       "      <td>783,531</td>\n",
       "      <td>452,381</td>\n",
       "      <td>173,057</td>\n",
       "      <td>38,834</td>\n",
       "      <td>6,446</td>\n",
       "    </tr>\n",
       "    <tr>\n",
       "      <th>서울특별시</th>\n",
       "      <td>111,771</td>\n",
       "      <td>158,168</td>\n",
       "      <td>177,402</td>\n",
       "      <td>189,643</td>\n",
       "      <td>312,187</td>\n",
       "      <td>420,207</td>\n",
       "      <td>375,618</td>\n",
       "      <td>338,253</td>\n",
       "      <td>370,711</td>\n",
       "      <td>366,171</td>\n",
       "      <td>...</td>\n",
       "      <td>353,823</td>\n",
       "      <td>374,041</td>\n",
       "      <td>305,535</td>\n",
       "      <td>219,688</td>\n",
       "      <td>168,671</td>\n",
       "      <td>123,739</td>\n",
       "      <td>64,831</td>\n",
       "      <td>24,973</td>\n",
       "      <td>6,041</td>\n",
       "      <td>1,020</td>\n",
       "    </tr>\n",
       "    <tr>\n",
       "      <th>부산광역시</th>\n",
       "      <td>40,263</td>\n",
       "      <td>61,900</td>\n",
       "      <td>65,309</td>\n",
       "      <td>63,638</td>\n",
       "      <td>90,452</td>\n",
       "      <td>103,204</td>\n",
       "      <td>95,908</td>\n",
       "      <td>97,996</td>\n",
       "      <td>124,462</td>\n",
       "      <td>121,665</td>\n",
       "      <td>...</td>\n",
       "      <td>136,954</td>\n",
       "      <td>159,300</td>\n",
       "      <td>132,624</td>\n",
       "      <td>98,178</td>\n",
       "      <td>69,974</td>\n",
       "      <td>54,684</td>\n",
       "      <td>28,003</td>\n",
       "      <td>10,147</td>\n",
       "      <td>2,256</td>\n",
       "      <td>319</td>\n",
       "    </tr>\n",
       "  </tbody>\n",
       "</table>\n",
       "<p>3 rows × 21 columns</p>\n",
       "</div>"
      ],
      "text/plain": [
       "          0~4세.1     5~9세.1   10~14세.1   15~19세.1   20~24세.1   25~29세.1  \\\n",
       "행정기관                                                                      \n",
       "전국       705,549  1,043,616  1,148,950  1,127,904  1,434,955  1,652,012   \n",
       "서울특별시    111,771    158,168    177,402    189,643    312,187    420,207   \n",
       "부산광역시     40,263     61,900     65,309     63,638     90,452    103,204   \n",
       "\n",
       "          30~34세.1   35~39세.1   40~44세.1   45~49세.1  ...   55~59세.1  \\\n",
       "행정기관                                                 ...              \n",
       "전국       1,566,694  1,630,074  1,987,386  1,999,047  ...  2,021,055   \n",
       "서울특별시      375,618    338,253    370,711    366,171  ...    353,823   \n",
       "부산광역시       95,908     97,996    124,462    121,665  ...    136,954   \n",
       "\n",
       "          60~64세.1   65~69세.1   70~74세.1 75~79세.1 80~84세.1 85~89세.1 90~94세.1  \\\n",
       "행정기관                                                                           \n",
       "전국       2,110,691  1,612,560  1,164,727  910,953  783,531  452,381  173,057   \n",
       "서울특별시      374,041    305,535    219,688  168,671  123,739   64,831   24,973   \n",
       "부산광역시      159,300    132,624     98,178   69,974   54,684   28,003   10,147   \n",
       "\n",
       "        95~99세.1 100세 이상.1  \n",
       "행정기관                        \n",
       "전국        38,834     6,446  \n",
       "서울특별시      6,041     1,020  \n",
       "부산광역시      2,256       319  \n",
       "\n",
       "[3 rows x 21 columns]"
      ]
     },
     "execution_count": 4,
     "metadata": {},
     "output_type": "execute_result"
    }
   ],
   "source": [
    "df_w = pd.read_excel(file_name, skiprows=3, index_col='행정기관', usecols='B,AB:AV')\n",
    "df_w.head(3)"
   ]
  },
  {
   "cell_type": "code",
   "execution_count": 5,
   "id": "b0a498b8",
   "metadata": {},
   "outputs": [
    {
     "data": {
      "text/plain": [
       "Index(['0~4세', '5~9세', '10~14세', '15~19세', '20~24세', '25~29세', '30~34세',\n",
       "       '35~39세', '40~44세', '45~49세', '50~54세', '55~59세', '60~64세', '65~69세',\n",
       "       '70~74세', '75~79세', '80~84세', '85~89세', '90~94세', '95~99세', '100세 이상'],\n",
       "      dtype='object')"
      ]
     },
     "execution_count": 5,
     "metadata": {},
     "output_type": "execute_result"
    }
   ],
   "source": [
    "df_m.columns"
   ]
  },
  {
   "cell_type": "code",
   "execution_count": 6,
   "id": "fe37202e",
   "metadata": {},
   "outputs": [
    {
     "data": {
      "text/plain": [
       "Index(['0~4세.1', '5~9세.1', '10~14세.1', '15~19세.1', '20~24세.1', '25~29세.1',\n",
       "       '30~34세.1', '35~39세.1', '40~44세.1', '45~49세.1', '50~54세.1', '55~59세.1',\n",
       "       '60~64세.1', '65~69세.1', '70~74세.1', '75~79세.1', '80~84세.1', '85~89세.1',\n",
       "       '90~94세.1', '95~99세.1', '100세 이상.1'],\n",
       "      dtype='object')"
      ]
     },
     "execution_count": 6,
     "metadata": {},
     "output_type": "execute_result"
    }
   ],
   "source": [
    "df_w.columns"
   ]
  },
  {
   "cell_type": "code",
   "execution_count": 7,
   "id": "a5b53f9d",
   "metadata": {},
   "outputs": [
    {
     "data": {
      "text/plain": [
       "Index(['0~4세', '5~9세', '10~14세', '15~19세', '20~24세', '25~29세', '30~34세',\n",
       "       '35~39세', '40~44세', '45~49세', '50~54세', '55~59세', '60~64세', '65~69세',\n",
       "       '70~74세', '75~79세', '80~84세', '85~89세', '90~94세', '95~99세', '100세 이상'],\n",
       "      dtype='object')"
      ]
     },
     "execution_count": 7,
     "metadata": {},
     "output_type": "execute_result"
    }
   ],
   "source": [
    "df_w.columns = df_m.columns  # 컬럼명 통일\n",
    "df_w.columns"
   ]
  },
  {
   "cell_type": "code",
   "execution_count": 8,
   "id": "186c45de",
   "metadata": {},
   "outputs": [],
   "source": [
    "df_w.iloc[0] = df_w.iloc[0].str.replace(',', '').astype(int)"
   ]
  },
  {
   "cell_type": "markdown",
   "id": "816ddf9a",
   "metadata": {},
   "source": [
    "## 데이터 시각화"
   ]
  },
  {
   "cell_type": "code",
   "execution_count": 9,
   "id": "085b141e",
   "metadata": {},
   "outputs": [],
   "source": [
    "import matplotlib.pyplot as plt\n",
    "import matplotlib\n",
    "matplotlib.rcParams['font.family'] = 'Malgun Gothic' # Windows\n",
    "matplotlib.rcParams['font.size'] = 15\n",
    "matplotlib.rcParams['axes.unicode_minus'] = False"
   ]
  },
  {
   "cell_type": "code",
   "execution_count": 10,
   "id": "8bc52b32",
   "metadata": {},
   "outputs": [
    {
     "data": {
      "image/png": "[encoded data removed]",
      "text/plain": [
       "<Figure size 1000x700 with 1 Axes>"
      ]
     },
     "metadata": {},
     "output_type": "display_data"
    }
   ],
   "source": [
    "plt.figure(figsize=(10, 7))\n",
    "plt.barh(df_m.columns, -df_m.iloc[0] // 1000)  # 단위 : 천 명\n",
    "plt.barh(df_w.columns, df_w.iloc[0] // 1000)\n",
    "plt.title('2022 대한민국 인구 피라미드')\n",
    "plt.savefig('2022_인구피라미드.png', dpi=100)\n",
    "plt.show()"
   ]
  }
 ],
 "metadata": {
  "kernelspec": {
   "display_name": "Python 3 (ipykernel)",
   "language": "python",
   "name": "python3"
  },
  "language_info": {
   "codemirror_mode": {
    "name": "ipython",
    "version": 3
   },
   "file_extension": ".py",
   "mimetype": "text/x-python",
   "name": "python",
   "nbconvert_exporter": "python",
   "pygments_lexer": "ipython3",
   "version": "3.10.7"
  }
 },
 "nbformat": 4,
 "nbformat_minor": 5
}
